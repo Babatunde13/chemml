{
 "cells": [
  {
   "cell_type": "markdown",
   "metadata": {
    "extensions": {
     "jupyter_dashboards": {
      "version": 1,
      "views": {
       "grid_default": {
        "col": 1,
        "height": 12,
        "hidden": false,
        "row": 0,
        "width": 10
       },
       "report_default": {}
      }
     }
    }
   },
   "source": [
    "# ChemML Wrapper Input File Generator\n",
    "\n",
    "This is a graphical user interface (gui) for the ChemML Wrapper.\n",
    "\n",
    "* run gui in the **notebook** with two lines of code:\n",
    "<pre>\n",
    "```python\n",
    "from cheml import wrapperGUI\n",
    "gui = wrapperGUI(script='new')\n",
    "gui.run()\n",
    "```\n",
    "\n",
    "</pre>\n",
    "\n",
    "The value of script is 'new' by default. It can also be a path to an old input file.  \n",
    "* You can see a graphical design of workflow with run_graph method:\n",
    "<pre>\n",
    "```python\n",
    "gui.run_graph()\n",
    "```\n",
    "\n",
    "</pre>"
   ]
  },
  {
   "cell_type": "code",
   "execution_count": 15,
   "metadata": {
    "extensions": {
     "jupyter_dashboards": {
      "version": 1,
      "views": {
       "grid_default": {
        "col": 0,
        "height": 4,
        "hidden": false,
        "row": 46,
        "width": 4
       },
       "report_default": {}
      }
     }
    }
   },
   "outputs": [
    {
     "name": "stdout",
     "output_type": "stream",
     "text": [
      "6\n",
      "7\n"
     ]
    }
   ],
   "source": [
    "class A(object):\n",
    "    def __init__(self,a):\n",
    "        self.a =a\n",
    "class B(A):\n",
    "    def __init__(self):\n",
    "#         A.__init__(self,6)\n",
    "        super(B,self).__init__(6)\n",
    "        self.b = 7\n",
    "q=B()\n",
    "print q.a\n",
    "print q.b\n"
   ]
  },
  {
   "cell_type": "code",
   "execution_count": 225,
   "metadata": {
    "extensions": {
     "jupyter_dashboards": {
      "version": 1,
      "views": {
       "grid_default": {
        "col": 4,
        "height": 4,
        "hidden": false,
        "row": 46,
        "width": 4
       },
       "report_default": {}
      }
     }
    }
   },
   "outputs": [
    {
     "name": "stdout",
     "output_type": "stream",
     "text": [
      "8\n",
      "inside the foo\n",
      "hello\n"
     ]
    }
   ],
   "source": [
    "def decorator(p=False):\n",
    "  def real_decorator(f):  \n",
    "    def deco(self):\n",
    "        print self.a+1\n",
    "        self.alaki = self.a +7\n",
    "        f(self)\n",
    "        if p:\n",
    "          print 'hello'\n",
    "    return deco\n",
    "  return real_decorator\n",
    "\n",
    "  \n",
    "\n",
    "class bar(object):\n",
    "  def __init__(self,a):\n",
    "    self.a = a\n",
    "  @decorator(p=True)\n",
    "  def foo(self):\n",
    "    print 'inside the foo'\n",
    "\n",
    "b = bar(7)\n",
    "b.foo()\n"
   ]
  },
  {
   "cell_type": "code",
   "execution_count": 153,
   "metadata": {
    "extensions": {
     "jupyter_dashboards": {
      "version": 1,
      "views": {
       "grid_default": {
        "col": 8,
        "height": 6,
        "hidden": false,
        "row": 46,
        "width": 4
       },
       "report_default": {}
      }
     }
    }
   },
   "outputs": [
    {
     "name": "stdout",
     "output_type": "stream",
     "text": [
      "[[1, 2]]\n",
      "b\n",
      "h\n",
      "8\n",
      "<__main__.block object at 0x114e1da50>\n",
      "8\n",
      "7\n",
      "<__main__.block object at 0x114d50490> <__main__.block object at 0x114e1da50>\n"
     ]
    }
   ],
   "source": [
    "class block(object):\n",
    "    \"\"\"Container class for all objects in a block of function\"\"\"\n",
    "    def __init__(self,name):\n",
    "        self.name = name\n",
    "        self.value = None\n",
    "        self.required = True\n",
    "        self.objects = []\n",
    "        self.sender = ('i_send','token','host','function')\n",
    "    def inputs(self,name,f):\n",
    "        self.name = name\n",
    "        self.f = f\n",
    "\n",
    "inp = block(name='a')\n",
    "inp.value=1\n",
    "inp.objects.append([1,2])\n",
    "inp.inputs('b',7)\n",
    "print inp.objects\n",
    "print inp.name\n",
    "inp.name = 'h'\n",
    "inp.f = 8\n",
    "print inp.name\n",
    "print inp.f\n",
    "print inp\n",
    "\n",
    "import copy\n",
    "\n",
    "a = copy.deepcopy(inp)\n",
    "a.f = 7\n",
    "print inp.f\n",
    "print a.f\n",
    "import sys\n",
    "sys.getsizeof(block)\n",
    "d={'a':a,'o':inp}\n",
    "d['a']"
   ]
  },
  {
   "cell_type": "code",
   "execution_count": 8,
   "metadata": {
    "extensions": {
     "jupyter_dashboards": {
      "version": 1,
      "views": {
       "grid_default": {
        "col": 4,
        "height": 4,
        "hidden": false,
        "row": 50,
        "width": 4
       },
       "report_default": {}
      }
     }
    }
   },
   "outputs": [
    {
     "name": "stdout",
     "output_type": "stream",
     "text": [
      "{'args': {'fit_inverse_transform': False, 'kernel': 'linear', 'n_jobs': 1, 'tol': 0, 'degree': 3, 'random_state': None, 'max_iter': None, 'kernel_params': None, 'remove_zero_eig': False, 'n_components': None, 'eigen_solver': 'auto', 'copy_X': True, 'alpha': 1.0, 'coef0': 1, 'gamma': None}}\n"
     ]
    },
    {
     "data": {
      "text/plain": [
       "\"n_components=None, kernel='linear', gamma=None, degree=3, coef0=1, kernel_params=None, alpha=1.0, fit_inverse_transform=False, eigen_solver='auto', tol=0, max_iter=None, remove_zero_eig=False, random_state=None, copy_X=True, n_jobs=1\""
      ]
     },
     "execution_count": 8,
     "metadata": {},
     "output_type": "execute_result"
    }
   ],
   "source": [
    "import numpy as np\n",
    "def paramtodict(**args):\n",
    "    print vars()\n",
    "    \n",
    "paramtodict(n_components=None, kernel='linear', gamma=None, degree=3, coef0=1, kernel_params=None, alpha=1.0, fit_inverse_transform=False, eigen_solver='auto', tol=0, max_iter=None, remove_zero_eig=False, random_state=None, copy_X=True, n_jobs=1)\n",
    "s= \"n_components=None, kernel=’linear’, gamma=None, degree=3, coef0=1, kernel_params=None, alpha=1.0, fit_inverse_transform=False, eigen_solver=’auto’, tol=0, max_iter=None, remove_zero_eig=False, random_state=None, copy_X=True, n_jobs=1\"\n",
    "s.replace(\"’\",\"'\")"
   ]
  },
  {
   "cell_type": "code",
   "execution_count": 14,
   "metadata": {
    "extensions": {
     "jupyter_dashboards": {
      "version": 1,
      "views": {
       "grid_default": {
        "col": 8,
        "height": 4,
        "hidden": false,
        "row": 52,
        "width": 4
       },
       "report_default": {}
      }
     }
    }
   },
   "outputs": [
    {
     "name": "stdout",
     "output_type": "stream",
     "text": [
      "{'copy_X': True, 'normalize': False, 'n_jobs': 1, 'fit_intercept': True}\n"
     ]
    },
    {
     "data": {
      "text/plain": [
       "\"<class 'sklearn.linear_model.base.LinearRegression'>\""
      ]
     },
     "execution_count": 14,
     "metadata": {},
     "output_type": "execute_result"
    }
   ],
   "source": [
    "import sklearn\n",
    "from sklearn.linear_model import LinearRegression\n",
    "m = LinearRegression()\n",
    "print m.get_params(deep=True)\n",
    "print str(type(m))\n"
   ]
  },
  {
   "cell_type": "code",
   "execution_count": 38,
   "metadata": {},
   "outputs": [
    {
     "name": "stdout",
     "output_type": "stream",
     "text": [
      "<class 'sklearn.grid_search.GridSearchCV'>\n"
     ]
    },
    {
     "data": {
      "text/plain": [
       "\"<type 'dict'>\""
      ]
     },
     "execution_count": 38,
     "metadata": {},
     "output_type": "execute_result"
    }
   ],
   "source": [
    "\n",
    "from sklearn import svm, grid_search, datasets\n",
    "iris = datasets.load_iris()\n",
    "parameters = {'kernel':('linear', 'rbf'), 'C':[1, 10]}\n",
    "svr = svm.SVC()\n",
    "clf = grid_search.GridSearchCV(svr, parameters)\n",
    "print str(type(clf))\n",
    "\n",
    "\n",
    "from sklearn.metrics import fbeta_score, make_scorer, r2_score\n",
    "ftwo_scorer = make_scorer(r2_score)\n",
    "str(type(ftwo_scorer))\n",
    "\n",
    "f = lambda x:x+1\n",
    "a={'f':f}\n",
    "str(type(a))\n",
    "\n"
   ]
  },
  {
   "cell_type": "code",
   "execution_count": 96,
   "metadata": {},
   "outputs": [
    {
     "data": {
      "text/plain": [
       "StandardScaler(copy=True, with_mean=True, with_std=True)"
      ]
     },
     "execution_count": 96,
     "metadata": {},
     "output_type": "execute_result"
    }
   ],
   "source": [
    "import sklearn\n",
    "f = getattr(sklearn.preprocessing, 'StandardScaler')\n",
    "f()"
   ]
  },
  {
   "cell_type": "code",
   "execution_count": 229,
   "metadata": {
    "scrolled": false
   },
   "outputs": [
    {
     "name": "stderr",
     "output_type": "stream",
     "text": [
      "/Users/mojtabahaghighatlari/anaconda/lib/python2.7/site-packages/sklearn/utils/deprecation.py:70: DeprecationWarning: Function std_ is deprecated; Attribute ``std_`` will be removed in 0.19. Use ``scale_`` instead\n",
      "  warnings.warn(msg, category=DeprecationWarning)\n"
     ]
    },
    {
     "data": {
      "text/plain": [
       "[('fit',\n",
       "  <bound method StandardScaler.fit of StandardScaler(copy=True, with_mean=True, with_std=True)>),\n",
       " ('fit_transform',\n",
       "  <bound method StandardScaler.fit_transform of StandardScaler(copy=True, with_mean=True, with_std=True)>),\n",
       " ('get_params',\n",
       "  <bound method StandardScaler.get_params of StandardScaler(copy=True, with_mean=True, with_std=True)>),\n",
       " ('inverse_transform',\n",
       "  <bound method StandardScaler.inverse_transform of StandardScaler(copy=True, with_mean=True, with_std=True)>),\n",
       " ('partial_fit',\n",
       "  <bound method StandardScaler.partial_fit of StandardScaler(copy=True, with_mean=True, with_std=True)>),\n",
       " ('set_params',\n",
       "  <bound method StandardScaler.set_params of StandardScaler(copy=True, with_mean=True, with_std=True)>),\n",
       " ('transform',\n",
       "  <bound method StandardScaler.transform of StandardScaler(copy=True, with_mean=True, with_std=True)>)]"
      ]
     },
     "execution_count": 229,
     "metadata": {},
     "output_type": "execute_result"
    }
   ],
   "source": [
    "#f = getattr(__import__('sklearn.preprocessing'),'StandardScaler')#, globals(), locals(), [module_name.split('.')[-1]])\n",
    "Function = 'Binarizer'\n",
    "module = ('sklearn', 'preprocessing')\n",
    "submodule = getattr(__import__(module[0]),module[1])\n",
    "f = getattr(submodule,'StandardScaler')\n",
    "import inspect\n",
    "[i for i in inspect.getmembers(f(), predicate=inspect.ismethod) if i[0][0]!='_']\n"
   ]
  },
  {
   "cell_type": "code",
   "execution_count": 169,
   "metadata": {},
   "outputs": [
    {
     "name": "stdout",
     "output_type": "stream",
     "text": [
      "   0  1\n",
      "0  0  0\n",
      "1  0  0\n",
      "2  1  1\n",
      "3  1  1\n"
     ]
    },
    {
     "data": {
      "text/plain": [
       "array([[ 1.,  0.,  1.,  0.],\n",
       "       [ 1.,  0.,  1.,  0.],\n",
       "       [ 0.,  1.,  0.,  1.],\n",
       "       [ 0.,  1.,  0.,  1.]])"
      ]
     },
     "execution_count": 169,
     "metadata": {},
     "output_type": "execute_result"
    }
   ],
   "source": [
    "import numpy as np \n",
    "from sklearn.preprocessing import OneHotEncoder\n",
    "X = [[0, 0], [0, 0], [1, 1], [1, 1]]\n",
    "X = pd.DataFrame(X)\n",
    "print X\n",
    "poly = OneHotEncoder()\n",
    "poly.fit(X)\n",
    "poly.transform(X).toarray()\n",
    "# poly.get_feature_names()"
   ]
  },
  {
   "cell_type": "code",
   "execution_count": 208,
   "metadata": {},
   "outputs": [
    {
     "name": "stdout",
     "output_type": "stream",
     "text": [
      "   0  1   2\n",
      "0  0  0 NaN\n",
      "1  1  1 NaN\n",
      "2  0  2 NaN\n",
      "3  1  0 NaN\n",
      "[[ 0.  0.]\n",
      " [ 1.  1.]\n",
      " [ 0.  2.]\n",
      " [ 1.  0.]]\n",
      "Int64Index([0, 1], dtype='int64')\n"
     ]
    }
   ],
   "source": [
    "from sklearn.preprocessing import Imputer\n",
    "enc = Imputer()\n",
    "data = [[0, 0, np.nan], [1, 1, np.nan], [0, 2, np.nan], [1, 0, np.nan]]\n",
    "data = pd.DataFrame(data)\n",
    "print data\n",
    "print enc.fit_transform(data)  \n",
    "stats = enc.statistics_\n",
    "nan_ind = [i for i, val in enumerate(stats) if not np.isnan(val)]\n",
    "print data.columns[nan_ind]\n",
    "# enc.n_values_\n",
    "\n",
    "# enc.feature_indices_\n",
    "\n",
    "# enc.transform([[0, 1, 1]]).toarray()"
   ]
  },
  {
   "cell_type": "code",
   "execution_count": 29,
   "metadata": {},
   "outputs": [
    {
     "name": "stdout",
     "output_type": "stream",
     "text": [
      "<type 'function'>\n",
      "<class 'abc.ABCMeta'>\n"
     ]
    }
   ],
   "source": [
    "import sklearn\n",
    "f = 'train_test_split'\n",
    "module =('sklearn','cross_validation')\n",
    "submodule = getattr(__import__(module[0]), module[1])\n",
    "F = getattr(submodule, f)\n",
    "print type(F)\n",
    "\n",
    "f = 'ARDRegression'\n",
    "module =('sklearn','linear_model')\n",
    "submodule = getattr(__import__(module[0]), module[1])\n",
    "F = getattr(submodule, f)\n",
    "print type(F)"
   ]
  },
  {
   "cell_type": "code",
   "execution_count": 32,
   "metadata": {},
   "outputs": [
    {
     "ename": "AttributeError",
     "evalue": "'module' object has no attribute 'Imputer'",
     "output_type": "error",
     "traceback": [
      "\u001b[0;31m---------------------------------------------------------------------------\u001b[0m",
      "\u001b[0;31mAttributeError\u001b[0m                            Traceback (most recent call last)",
      "\u001b[0;32m<ipython-input-32-1cd765210e95>\u001b[0m in \u001b[0;36m<module>\u001b[0;34m()\u001b[0m\n\u001b[1;32m      2\u001b[0m \u001b[0msys\u001b[0m\u001b[0;34m.\u001b[0m\u001b[0mmodules\u001b[0m\u001b[0;34m[\u001b[0m\u001b[0;34m'sklearn.linear_model'\u001b[0m\u001b[0;34m]\u001b[0m\u001b[0;34m\u001b[0m\u001b[0m\n\u001b[1;32m      3\u001b[0m \u001b[0;32mfrom\u001b[0m \u001b[0msklearn\u001b[0m\u001b[0;34m.\u001b[0m\u001b[0mlinear_model\u001b[0m \u001b[0;32mimport\u001b[0m \u001b[0mARDRegression\u001b[0m\u001b[0;34m\u001b[0m\u001b[0m\n\u001b[0;32m----> 4\u001b[0;31m \u001b[0mgetattr\u001b[0m\u001b[0;34m(\u001b[0m\u001b[0m__import__\u001b[0m\u001b[0;34m(\u001b[0m\u001b[0mmodule\u001b[0m\u001b[0;34m[\u001b[0m\u001b[0;36m0\u001b[0m\u001b[0;34m]\u001b[0m\u001b[0;34m)\u001b[0m\u001b[0;34m,\u001b[0m\u001b[0;34m'Imputer'\u001b[0m\u001b[0;34m)\u001b[0m\u001b[0;34m\u001b[0m\u001b[0m\n\u001b[0m",
      "\u001b[0;31mAttributeError\u001b[0m: 'module' object has no attribute 'Imputer'"
     ]
    }
   ],
   "source": [
    "import sys\n",
    "sys.modules['sklearn.linear_model']\n",
    "from sklearn.linear_model import ARDRegression\n",
    "getattr(__import__(module[0]),'Imputer')"
   ]
  }
 ],
 "metadata": {
  "extensions": {
   "jupyter_dashboards": {
    "activeView": "grid_default",
    "version": 1,
    "views": {
     "grid_default": {
      "cellMargin": 10,
      "defaultCellHeight": 20,
      "maxColumns": 12,
      "name": "grid",
      "type": "grid"
     },
     "report_default": {
      "name": "report",
      "type": "report"
     }
    }
   }
  },
  "kernelspec": {
   "display_name": "Python 2",
   "language": "python",
   "name": "python2"
  },
  "language_info": {
   "codemirror_mode": {
    "name": "ipython",
    "version": 2
   },
   "file_extension": ".py",
   "mimetype": "text/x-python",
   "name": "python",
   "nbconvert_exporter": "python",
   "pygments_lexer": "ipython2",
   "version": "2.7.13"
  }
 },
 "nbformat": 4,
 "nbformat_minor": 1
}
