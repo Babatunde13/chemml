{
 "cells": [
  {
   "cell_type": "markdown",
   "metadata": {
    "extensions": {
     "jupyter_dashboards": {
      "version": 1,
      "views": {
       "grid_default": {
        "col": 1,
        "height": 12,
        "hidden": false,
        "row": 0,
        "width": 10
       },
       "report_default": {}
      }
     }
    }
   },
   "source": [
    "# ChemML Wrapper Input File Generator\n",
    "\n",
    "This is a graphical user interface (gui) for the ChemML Wrapper.\n",
    "\n",
    "* run gui in the **notebook** with two lines of code:\n",
    "<pre>\n",
    "```python\n",
    "from cheml import wrapperGUI\n",
    "gui = wrapperGUI(script='new')\n",
    "gui.run()\n",
    "```\n",
    "\n",
    "</pre>\n",
    "\n",
    "The value of script is 'new' by default. It can also be a path to an old input file.  \n",
    "* You can see a graphical design of workflow with run_graph method:\n",
    "<pre>\n",
    "```python\n",
    "gui.run_graph()\n",
    "```\n",
    "\n",
    "</pre>"
   ]
  },
  {
   "cell_type": "code",
   "execution_count": 15,
   "metadata": {
    "extensions": {
     "jupyter_dashboards": {
      "version": 1,
      "views": {
       "grid_default": {
        "col": 0,
        "height": 4,
        "hidden": false,
        "row": 46,
        "width": 4
       },
       "report_default": {}
      }
     }
    }
   },
   "outputs": [
    {
     "name": "stdout",
     "output_type": "stream",
     "text": [
      "6\n",
      "7\n"
     ]
    }
   ],
   "source": [
    "class A(object):\n",
    "    def __init__(self,a):\n",
    "        self.a =a\n",
    "class B(A):\n",
    "    def __init__(self):\n",
    "#         A.__init__(self,6)\n",
    "        super(B,self).__init__(6)\n",
    "        self.b = 7\n",
    "q=B()\n",
    "print q.a\n",
    "print q.b\n"
   ]
  },
  {
   "cell_type": "code",
   "execution_count": 86,
   "metadata": {
    "extensions": {
     "jupyter_dashboards": {
      "version": 1,
      "views": {
       "grid_default": {
        "col": 4,
        "height": 4,
        "hidden": false,
        "row": 46,
        "width": 4
       },
       "report_default": {}
      }
     }
    }
   },
   "outputs": [
    {
     "name": "stdout",
     "output_type": "stream",
     "text": [
      "8\n",
      "14\n"
     ]
    }
   ],
   "source": [
    "def dec_check(f):\n",
    "  def deco(self):\n",
    "    print self.a+1\n",
    "    self.alaki = self.a +7\n",
    "    f(self)\n",
    "  return deco\n",
    "\n",
    "class bar(object):\n",
    "  def __init__(self,a):\n",
    "    self.a = a\n",
    "  @dec_check\n",
    "  def foo(self):\n",
    "    print self.alaki\n",
    "\n",
    "b = bar(7)\n",
    "b.foo()"
   ]
  },
  {
   "cell_type": "code",
   "execution_count": 153,
   "metadata": {
    "extensions": {
     "jupyter_dashboards": {
      "version": 1,
      "views": {
       "grid_default": {
        "col": 8,
        "height": 6,
        "hidden": false,
        "row": 46,
        "width": 4
       },
       "report_default": {}
      }
     }
    }
   },
   "outputs": [
    {
     "name": "stdout",
     "output_type": "stream",
     "text": [
      "[[1, 2]]\n",
      "b\n",
      "h\n",
      "8\n",
      "<__main__.block object at 0x114e1da50>\n",
      "8\n",
      "7\n",
      "<__main__.block object at 0x114d50490> <__main__.block object at 0x114e1da50>\n"
     ]
    }
   ],
   "source": [
    "class block(object):\n",
    "    \"\"\"Container class for all objects in a block of function\"\"\"\n",
    "    def __init__(self,name):\n",
    "        self.name = name\n",
    "        self.value = None\n",
    "        self.required = True\n",
    "        self.objects = []\n",
    "        self.sender = ('i_send','token','host','function')\n",
    "    def inputs(self,name,f):\n",
    "        self.name = name\n",
    "        self.f = f\n",
    "\n",
    "inp = block(name='a')\n",
    "inp.value=1\n",
    "inp.objects.append([1,2])\n",
    "inp.inputs('b',7)\n",
    "print inp.objects\n",
    "print inp.name\n",
    "inp.name = 'h'\n",
    "inp.f = 8\n",
    "print inp.name\n",
    "print inp.f\n",
    "print inp\n",
    "\n",
    "import copy\n",
    "\n",
    "a = copy.deepcopy(inp)\n",
    "a.f = 7\n",
    "print inp.f\n",
    "print a.f\n",
    "import sys\n",
    "sys.getsizeof(block)\n",
    "d={'a':a,'o':inp}\n",
    "d['a']"
   ]
  },
  {
   "cell_type": "code",
   "execution_count": 103,
   "metadata": {
    "collapsed": true,
    "extensions": {
     "jupyter_dashboards": {
      "version": 1,
      "views": {
       "grid_default": {
        "hidden": true
       },
       "report_default": {}
      }
     }
    }
   },
   "outputs": [],
   "source": [
    "info = {'task':{'subtask':{'host':{'function':{ 'name':'df', 'required':True, 'value':None, 'objects':[], 'sender':(), \n",
    "                                 'extra_param':{'param':{'required':False, 'value':None}\n",
    "                                               } \n",
    "                               }\n",
    "                     }\n",
    "               }\n",
    "      }\n",
    "}\n"
   ]
  },
  {
   "cell_type": "code",
   "execution_count": 170,
   "metadata": {
    "extensions": {
     "jupyter_dashboards": {
      "version": 1,
      "views": {
       "grid_default": {
        "col": 0,
        "height": 10,
        "hidden": false,
        "row": 50,
        "width": 4
       },
       "report_default": {}
      }
     }
    }
   },
   "outputs": [
    {
     "name": "stdout",
     "output_type": "stream",
     "text": [
      "True\n",
      "True\n",
      "False\n",
      "True\n",
      "sklearn.svm.classes.SVR\n",
      "904\n"
     ]
    },
    {
     "data": {
      "text/plain": [
       "{'a': 7,\n",
       " 'f': 8,\n",
       " 'function': None,\n",
       " 'function_parameters': {},\n",
       " 'host': None,\n",
       " 'inputs': {},\n",
       " 'outputs': {},\n",
       " 'requirements': [],\n",
       " 'subtask': None,\n",
       " 'task': 's',\n",
       " 'wrapper_parameters': {}}"
      ]
     },
     "execution_count": 170,
     "metadata": {},
     "output_type": "execute_result"
    }
   ],
   "source": [
    "from sklearn.svm import SVR\n",
    "s=SVR()\n",
    "print isinstance(s,sklearn.svm.SVR)\n",
    "print isinstance(s.__class__.__name__, str)\n",
    "print isinstance(s.__class__, str)\n",
    "print isinstance(s.__module__, str) \n",
    "print s.__module__+'.'+s.__class__.__name__\n",
    "import sys\n",
    "sys.getsizeof(s)\n",
    "# sys.getsizeof(block)\n",
    "class Input(object):\n",
    "    \"\"\"Container class for inputs of a function\"\"\"\n",
    "    def __init__(self,name,required):\n",
    "        self.name = name\n",
    "        self.info_short = ''\n",
    "        self.info_long = ''\n",
    "        self.value = None\n",
    "        self.required = required\n",
    "        self.allowed = []\n",
    "        self.sender = None\n",
    "        self.py_type = None\n",
    "        self.ndim = None\n",
    "        self.n_rows = None\n",
    "        self.n_cols = None\n",
    "\n",
    "class Output(object):\n",
    "    \"\"\"Container class for outputs of a function\"\"\"\n",
    "    def __init__(self,name):\n",
    "        self.name = name\n",
    "        self.value = None\n",
    "        self.count = 0\n",
    "        self.sender = None\n",
    "        self.py_type = None\n",
    "        if self.value is not None:\n",
    "            self.str_type = self.value.__module__+ '.' +self.value.__class__.__name__\n",
    "        else:\n",
    "            self.str_type = None\n",
    "print sys.getsizeof(Output)\n",
    "\n",
    "class HF(object):\n",
    "    \"\"\"Container class for a function\"\"\"\n",
    "    def __init__(self,task):\n",
    "        self.task = task\n",
    "        self.subtask = None\n",
    "        self.host = None\n",
    "        self.function = None\n",
    "        self.inputs = {}\n",
    "        self.outputs = {}\n",
    "        self.wrapper_parameters = {}\n",
    "        self.function_parameters = {}\n",
    "        self.requirements = []\n",
    "    def set(self,f):\n",
    "        self.f = f\n",
    "        self.a =7\n",
    "\n",
    "h = HF('s')\n",
    "h.set(8)\n",
    "vars(h)"
   ]
  },
  {
   "cell_type": "code",
   "execution_count": 8,
   "metadata": {
    "extensions": {
     "jupyter_dashboards": {
      "version": 1,
      "views": {
       "grid_default": {
        "col": 4,
        "height": 4,
        "hidden": false,
        "row": 50,
        "width": 4
       },
       "report_default": {}
      }
     }
    }
   },
   "outputs": [
    {
     "name": "stdout",
     "output_type": "stream",
     "text": [
      "{'args': {'fit_inverse_transform': False, 'kernel': 'linear', 'n_jobs': 1, 'tol': 0, 'degree': 3, 'random_state': None, 'max_iter': None, 'kernel_params': None, 'remove_zero_eig': False, 'n_components': None, 'eigen_solver': 'auto', 'copy_X': True, 'alpha': 1.0, 'coef0': 1, 'gamma': None}}\n"
     ]
    },
    {
     "data": {
      "text/plain": [
       "\"n_components=None, kernel='linear', gamma=None, degree=3, coef0=1, kernel_params=None, alpha=1.0, fit_inverse_transform=False, eigen_solver='auto', tol=0, max_iter=None, remove_zero_eig=False, random_state=None, copy_X=True, n_jobs=1\""
      ]
     },
     "execution_count": 8,
     "metadata": {},
     "output_type": "execute_result"
    }
   ],
   "source": [
    "import numpy as np\n",
    "def paramtodict(**args):\n",
    "    print vars()\n",
    "    \n",
    "paramtodict(n_components=None, kernel='linear', gamma=None, degree=3, coef0=1, kernel_params=None, alpha=1.0, fit_inverse_transform=False, eigen_solver='auto', tol=0, max_iter=None, remove_zero_eig=False, random_state=None, copy_X=True, n_jobs=1)\n",
    "s= \"n_components=None, kernel=’linear’, gamma=None, degree=3, coef0=1, kernel_params=None, alpha=1.0, fit_inverse_transform=False, eigen_solver=’auto’, tol=0, max_iter=None, remove_zero_eig=False, random_state=None, copy_X=True, n_jobs=1\"\n",
    "s.replace(\"’\",\"'\")"
   ]
  },
  {
   "cell_type": "code",
   "execution_count": 14,
   "metadata": {
    "extensions": {
     "jupyter_dashboards": {
      "version": 1,
      "views": {
       "grid_default": {
        "col": 8,
        "height": 4,
        "hidden": false,
        "row": 52,
        "width": 4
       },
       "report_default": {}
      }
     }
    }
   },
   "outputs": [
    {
     "name": "stdout",
     "output_type": "stream",
     "text": [
      "{'copy_X': True, 'normalize': False, 'n_jobs': 1, 'fit_intercept': True}\n"
     ]
    },
    {
     "data": {
      "text/plain": [
       "\"<class 'sklearn.linear_model.base.LinearRegression'>\""
      ]
     },
     "execution_count": 14,
     "metadata": {},
     "output_type": "execute_result"
    }
   ],
   "source": [
    "import sklearn\n",
    "from sklearn.linear_model import LinearRegression\n",
    "m = LinearRegression()\n",
    "print m.get_params(deep=True)\n",
    "print str(type(m))"
   ]
  },
  {
   "cell_type": "code",
   "execution_count": 24,
   "metadata": {
    "collapsed": true
   },
   "outputs": [],
   "source": [
    "class Parametrs(object):\n",
    "    \"\"\"Container class for parameters of a function\"\"\"\n",
    "    def __init__(self,name,default,format,required=False,type=0):\n",
    "        \"\"\"type: 0: if the parameter belongs to the function\n",
    "                 1: if the parameter belongs to the ChemML wrapper\n",
    "        \"\"\"\n",
    "        self.name = name\n",
    "        self.default = default\n",
    "        self.format = format\n",
    "        self.required = required\n",
    "        self.type = type\n"
   ]
  },
  {
   "cell_type": "code",
   "execution_count": 7,
   "metadata": {},
   "outputs": [
    {
     "name": "stdout",
     "output_type": "stream",
     "text": [
      "((0, 'df', 1, 'df'), (1, 'df2', 2, 'df'), (1, 'df1', 3, 'df'), (3, 'filepath', 4, 'molfile'), (4, 'df', 5, 'df'), (5, 'df', 6, 'df'))\n",
      "{'df': <__main__.Input object at 0x105ccc890>, '__module__': '__main__', 'api': <__main__.Input object at 0x105d04590>, '__doc__': None}\n"
     ]
    }
   ],
   "source": [
    "import time\n",
    "class BASE(object):\n",
    "    def __init__(self, CompGraph=((0, 'df', 1, 'df'), (1, 'df2', 2, 'df'), (1, 'df1', 3, 'df'), (3, 'filepath', 4, 'molfile'), (4, 'df', 5, 'df'), (5, 'df', 6, 'df'))):\n",
    "        self.graph = CompGraph\n",
    "        self.graph_info = {}\n",
    "        self.send = {}      # {(iblock,token):[value,count]}\n",
    "        self.requirements = ['pandas']\n",
    "        self.start_time = time.time()\n",
    "        self.block_time = 0\n",
    "        self.date = '7'\n",
    "        self.time = '1'\n",
    "        self.InputScript = ''\n",
    "        self.output_directory = '.'\n",
    "        self.log = []\n",
    "        \n",
    "class Input(object):\n",
    "    \"\"\"Container class for inputs of a function\"\"\"\n",
    "    def __init__(self,name, info_short, type):\n",
    "        self.name = name\n",
    "        self.info_short = info_short\n",
    "        self.info_long = ''\n",
    "        self.value = None\n",
    "        self.type = type\n",
    "        self.sender = None\n",
    "    def set(self):\n",
    "        print 'set'\n",
    "\n",
    "class Output(object):\n",
    "    \"\"\"Container class for outputs of a function\"\"\"\n",
    "    def __init__(self,name, info_short, type):\n",
    "        self.name = name\n",
    "        self.info_short = info_short\n",
    "        self.info_long = ''\n",
    "        self.value = None\n",
    "        self.type = type\n",
    "        self.count = 0\n",
    "        self.sender = None\n",
    "\n",
    "def req(ind):\n",
    "    all_req = (('scikit-learn',0.18))\n",
    "    return all_req[ind]\n",
    "\n",
    "class PolynomialFeatures(BASE):\n",
    "    task = 'Prepare'\n",
    "    subtask = 'descriptor'\n",
    "    host = 'sklearn'\n",
    "    function = 'PolynomialFeatures'\n",
    "    requirements = [req(0),]\n",
    "    documentation = \"\"\n",
    "\n",
    "    class Inputs:\n",
    "        df = Input('df','pandas dataframe', [\"<class 'pandas.core.frame.DataFrame'>\"])\n",
    "        api = Input('api', 'sklearn PolynomialFeatures class', [\"<class 'sklearn.preprocessing.data.PolynomialFeatures'>\"])\n",
    "\n",
    "    class Outputs:\n",
    "        df = Output('df', 'pandas dataframe', [\"<class 'pandas.core.frame.DataFrame'>\"])\n",
    "        api = Input('api', 'sklearn PolynomialFeatures class', [\"<class 'sklearn.preprocessing.data.PolynomialFeatures'>\"])\n",
    "    \n",
    "    class WParameters:\n",
    "        pass\n",
    "        \n",
    "    class Fparametrs:\n",
    "        pass\n",
    "\n",
    "    \n",
    "    def __init__(self):\n",
    "        super(PolynomialFeatures,self).__init__()\n",
    "        print self.graph\n",
    "\n",
    "\n",
    "\n",
    "# PolynomialFeatures.Inputs.df.name\n",
    "p = PolynomialFeatures()\n",
    "p.author = \"Mojtaba\"\n",
    "print vars(p.Inputs)\n",
    "# print vars(p)"
   ]
  },
  {
   "cell_type": "code",
   "execution_count": 38,
   "metadata": {},
   "outputs": [
    {
     "name": "stdout",
     "output_type": "stream",
     "text": [
      "<class 'sklearn.grid_search.GridSearchCV'>\n"
     ]
    },
    {
     "data": {
      "text/plain": [
       "\"<type 'dict'>\""
      ]
     },
     "execution_count": 38,
     "metadata": {},
     "output_type": "execute_result"
    }
   ],
   "source": [
    "from sklearn import svm, grid_search, datasets\n",
    "iris = datasets.load_iris()\n",
    "parameters = {'kernel':('linear', 'rbf'), 'C':[1, 10]}\n",
    "svr = svm.SVC()\n",
    "clf = grid_search.GridSearchCV(svr, parameters)\n",
    "print str(type(clf))\n",
    "\n",
    "\n",
    "from sklearn.metrics import fbeta_score, make_scorer, r2_score\n",
    "ftwo_scorer = make_scorer(r2_score)\n",
    "str(type(ftwo_scorer))\n",
    "\n",
    "f = lambda x:x+1\n",
    "a={'f':f}\n",
    "str(type(a))\n",
    "\n"
   ]
  },
  {
   "cell_type": "code",
   "execution_count": 42,
   "metadata": {},
   "outputs": [
    {
     "data": {
      "text/plain": [
       "array([ 174.26933996,  117.6539241 ,  164.60228641,  155.65049088,\n",
       "        132.68647979,  128.49511245,  120.76146877,  141.069413  ,\n",
       "        164.18904498,  182.37394949,  111.04181265,  127.94311443,\n",
       "        135.0869234 ,  162.83066014,  135.3573514 ,  157.64516523,\n",
       "        178.95843326,  163.3919841 ,  143.85237903,  144.29748882,\n",
       "        133.58117218,  124.77928571,  132.90918003,  208.52927   ,\n",
       "        153.61908967,  154.16616341,  118.95351821,  163.50467541,\n",
       "        145.89406196,  168.3308101 ,  155.87411031,  123.45960148,\n",
       "        185.70459144,  133.38468582,  117.2789469 ,  150.27895019,\n",
       "        174.1541028 ,  160.03235091,  192.31389633,  161.58568256,\n",
       "        154.2224809 ,  119.35517679,  146.15706413,  133.82056934,\n",
       "        179.68118754,  137.96619936,  146.07788398,  126.77579723,\n",
       "        123.32101099,  166.26710247,  146.41559964,  161.67261029,\n",
       "        147.47731459,  138.44595305,  144.85421048,  113.77990664,\n",
       "        185.54970402,  115.31624749,  142.23672103,  171.07792136,\n",
       "        132.5394716 ,  177.80524864,  116.5616502 ,  134.25230846,\n",
       "        142.88707475,  173.2830912 ,  154.31273504,  149.16680759,\n",
       "        144.88238997,  121.97783103,  110.38457621,  180.25559631,\n",
       "        199.06141058,  151.1195546 ,  161.14217698,  153.96960812,\n",
       "        150.77179755,  113.30903579,  165.15755771,  115.85735727,\n",
       "        174.19267171,  150.12027233,  115.47891783,  153.38967232,\n",
       "        115.31573467,  156.49909623,   92.62211515,  178.15649994,\n",
       "        131.59320715,  134.46166754,  116.97678633,  190.00790119,\n",
       "        166.01173292,  126.25944471,  134.29256991,  144.71971963,\n",
       "        190.9769591 ,  182.39199466,  154.45325308,  148.30325558,\n",
       "        151.72036937,  124.12825466,  138.6011155 ,  137.75891286,\n",
       "        123.0917243 ,  131.74735403,  112.07367481,  124.56956904,\n",
       "        156.78432061,  128.63135591,   93.68260079,  130.54324394,\n",
       "        131.8693231 ,  154.5708257 ,  179.81343019,  165.78130755,\n",
       "        150.04779033,  162.37974736,  143.92996797,  143.15645843,\n",
       "        125.20161377,  145.99590279,  155.3505536 ,  145.97574185,\n",
       "        134.66120515,  163.92450638,  101.92329396,  139.33014324,\n",
       "        122.71377023,  152.20573113,  153.36931089,  116.76545147,\n",
       "        131.96936127,  109.74817383,  132.57453994,  159.38030328,\n",
       "        109.31343881,  147.69926269,  156.3664255 ,  161.12509958,\n",
       "        128.16523686,  156.78446286,  154.04375702,  124.83705022,\n",
       "        143.85606595,  143.23651701,  147.76316913,  154.21572891,\n",
       "        129.07895017,  157.79644923])"
      ]
     },
     "execution_count": 42,
     "metadata": {},
     "output_type": "execute_result"
    }
   ],
   "source": [
    "from sklearn import datasets, linear_model\n",
    "from sklearn.model_selection import cross_val_predict\n",
    "diabetes = datasets.load_diabetes()\n",
    "X = diabetes.data[:150]\n",
    "y = diabetes.target[:150]\n",
    "lasso = linear_model.Lasso()\n",
    "y_pred = cross_val_predict(lasso, X, y)\n",
    "len(y_pred)\n",
    "len(y)\n",
    "y_pred"
   ]
  }
 ],
 "metadata": {
  "extensions": {
   "jupyter_dashboards": {
    "activeView": "grid_default",
    "version": 1,
    "views": {
     "grid_default": {
      "cellMargin": 10,
      "defaultCellHeight": 20,
      "maxColumns": 12,
      "name": "grid",
      "type": "grid"
     },
     "report_default": {
      "name": "report",
      "type": "report"
     }
    }
   }
  },
  "kernelspec": {
   "display_name": "Python 2",
   "language": "python",
   "name": "python2"
  },
  "language_info": {
   "codemirror_mode": {
    "name": "ipython",
    "version": 2
   },
   "file_extension": ".py",
   "mimetype": "text/x-python",
   "name": "python",
   "nbconvert_exporter": "python",
   "pygments_lexer": "ipython2",
   "version": "2.7.13"
  }
 },
 "nbformat": 4,
 "nbformat_minor": 1
}
