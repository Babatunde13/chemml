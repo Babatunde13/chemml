{
 "cells": [
  {
   "cell_type": "code",
   "execution_count": 3,
   "metadata": {},
   "outputs": [],
   "source": [
    "import ipywidgets as widgets\n",
    "from IPython.display import display\n",
    "\n",
    "def BANK():\n",
    "    info = {\n",
    "            'Enter':{\n",
    "                        'input_data':{\n",
    "                                    'pandas':['read_excel', 'read_csv'],\n",
    "                                     }\n",
    "                    },\n",
    "            'Prepare':{\n",
    "                        'descriptor': {'cheml': ['RDKitFingerprint', 'Dragon', 'CoulombMatrix'],\n",
    "                                       'sklearn': ['PolynomialFeatures', 'Binarizer','OneHotEncoder']\n",
    "                                       },\n",
    "                        'scaler': {\n",
    "                                    'sklearn': ['StandardScaler','MinMaxScaler','MaxAbsScaler','RobustScaler','Normalizer']\n",
    "                                  },\n",
    "                        'feature selector': {\n",
    "                                                'sklearn': ['PCA','KernelPCA']\n",
    "                                            },\n",
    "                        'feature transformer': {\n",
    "                                                'cheml': ['TBFS']\n",
    "                                                },\n",
    "                        'basic operator': {\n",
    "                                        'cheml':['PyScript','Merge','Split', 'Constant','MissingValues','Trimmer','Uniformer'],\n",
    "                                        'sklearn': ['Imputer']\n",
    "                                          },\n",
    "                        'splitter': {\n",
    "                                        'sklearn': ['Train_Test_Split','KFold']\n",
    "                                    },\n",
    "                      },\n",
    "            'Model':{\n",
    "                        'regression':{\n",
    "                                        'cheml':['NN_PSGD','nn_dsgd'],\n",
    "                                        'sklearn':[\n",
    "                                                'OLS','Ridge','KernelRidge','Lasso','MultiTaskLasso','',\n",
    "                                                'ElasticNet','MultiTaskElasticNet','Lars','LassoLars',\n",
    "                                                'BayesianRidge', 'ARDRegression', 'LogisticRegression',\n",
    "                                                'SGDRegressor','SVR','NuSVR','LinearSVR','MLPRegressor',\n",
    "                                                ]\n",
    "                                        },\n",
    "                        'classification': {},\n",
    "                        'clustering': {},\n",
    "                    },\n",
    "            'Search':{\n",
    "                        'evolutionary': {\n",
    "                                        'cheml': ['GeneticAlgorithm_binary'],\n",
    "                                        'deep': []\n",
    "                                        },\n",
    "                        'swarm': {\n",
    "                                    'pyswarm': ['pso']\n",
    "                                 },\n",
    "                        'grid':{\n",
    "                                    'sklearn': ['GridSearchCV',]\n",
    "                                },\n",
    "                        'metrics':{\n",
    "                                        'sklearn':['Evaluate_Regression']\n",
    "                                   },\n",
    "                     },\n",
    "            'Mix':{\n",
    "                    'A': {\n",
    "                            'sklearn': ['cross_val_score',]\n",
    "                          },\n",
    "                    'B': {}\n",
    "                  },\n",
    "            'Visualize':{\n",
    "                            'matplotlib': [],\n",
    "                            'seaborn': []\n",
    "                        },\n",
    "            'Store':{\n",
    "                        'output_data':{\n",
    "                                        'cheml': ['SaveFile'],\n",
    "                                      }\n",
    "                    }\n",
    "            }\n",
    "    return info"
   ]
  },
  {
   "cell_type": "code",
   "execution_count": 5,
   "metadata": {
    "collapsed": true
   },
   "outputs": [],
   "source": [
    "class BASE(object):\n",
    "    def __init__(self, script='new'):\n",
    "        self.script = script\n",
    "        self.childeren = [widgets.Label(value='choose a method:')]\n",
    "\n",
    "        if script == 'new':\n",
    "            self._main_box()\n",
    "        else:\n",
    "            self.run_graph()\n",
    "\n",
    "    def run_graph(self):\n",
    "        print 'workflow graph'"
   ]
  },
  {
   "cell_type": "code",
   "execution_count": null,
   "metadata": {
    "collapsed": true
   },
   "outputs": [],
   "source": [
    "class wrapperGUI(BASE):\n",
    "    \n",
    "    def _method_box():\n",
    "        L1 = \n",
    "        items = []"
   ]
  }
 ],
 "metadata": {
  "kernelspec": {
   "display_name": "Python 2",
   "language": "python",
   "name": "python2"
  },
  "language_info": {
   "codemirror_mode": {
    "name": "ipython",
    "version": 2.0
   },
   "file_extension": ".py",
   "mimetype": "text/x-python",
   "name": "python",
   "nbconvert_exporter": "python",
   "pygments_lexer": "ipython2",
   "version": "2.7.13"
  }
 },
 "nbformat": 4,
 "nbformat_minor": 0
}