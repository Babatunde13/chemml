{
 "cells": [
  {
   "cell_type": "code",
   "execution_count": null,
   "metadata": {
    "collapsed": true
   },
   "outputs": [],
   "source": [
    "class Input(object):\n",
    "    \"\"\"Container class for inputs of a function\"\"\"\n",
    "    def __init__(self,name, info_short, type):\n",
    "        self.name = name\n",
    "        self.info_short = info_short\n",
    "        self.info_long = ''\n",
    "        self.value = None\n",
    "        self.type = type\n",
    "        self.sender = None\n",
    "    def set(self):\n",
    "        print 'set'\n",
    "\n",
    "class Output(object):\n",
    "    \"\"\"Container class for outputs of a function\"\"\"\n",
    "    def __init__(self,name, info_short, type):\n",
    "        self.name = name\n",
    "        self.info_short = info_short\n",
    "        self.info_long = ''\n",
    "        self.value = None\n",
    "        self.type = type\n",
    "        self.count = 0\n",
    "        self.sender = None\n",
    "\n",
    "def req(ind):\n",
    "    all_req = (('scikit-learn',0.18))\n",
    "    return all_req[ind]\n",
    "\n",
    "class PolynomialFeatures(BASE):\n",
    "    task = 'Prepare'\n",
    "    subtask = 'descriptor'\n",
    "    host = 'sklearn'\n",
    "    function = 'PolynomialFeatures'\n",
    "    requirements = [req(0),]\n",
    "    documentation = \"\"\n",
    "\n",
    "    class Inputs:\n",
    "        df = Input('df','pandas dataframe', [\"<class 'pandas.core.frame.DataFrame'>\"])\n",
    "        api = Input('api', 'sklearn PolynomialFeatures class', [\"<class 'sklearn.preprocessing.data.PolynomialFeatures'>\"])\n",
    "\n",
    "    class Outputs:\n",
    "        df = Output('df', 'pandas dataframe', [\"<class 'pandas.core.frame.DataFrame'>\"])\n",
    "        api = Input('api', 'sklearn PolynomialFeatures class', [\"<class 'sklearn.preprocessing.data.PolynomialFeatures'>\"])\n",
    "    \n",
    "    class WParameters:\n",
    "        pass\n",
    "        \n",
    "    class Fparametrs:\n",
    "        pass\n",
    "\n"
   ]
  }
 ],
 "metadata": {
  "kernelspec": {
   "display_name": "Python 2",
   "language": "python",
   "name": "python2"
  },
  "language_info": {
   "codemirror_mode": {
    "name": "ipython",
    "version": 2
   },
   "file_extension": ".py",
   "mimetype": "text/x-python",
   "name": "python",
   "nbconvert_exporter": "python",
   "pygments_lexer": "ipython2",
   "version": "2.7.13"
  }
 },
 "nbformat": 4,
 "nbformat_minor": 2
}
