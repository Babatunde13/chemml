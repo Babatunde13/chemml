{
 "cells": [
  {
   "cell_type": "code",
   "execution_count": 1,
   "metadata": {
    "scrolled": false
   },
   "outputs": [
    {
     "data": {
      "application/vnd.jupyter.widget-view+json": {
       "model_id": "2840ebceec984d698615452111972779",
       "version_major": 2,
       "version_minor": 0
      },
      "text/html": [
       "<p>Failed to display Jupyter Widget of type <code>Accordion</code>.</p>\n",
       "<p>\n",
       "  If you're reading this message in Jupyter Notebook or JupyterLab, it may mean\n",
       "  that the widgets JavaScript is still loading. If this message persists, it\n",
       "  likely means that the widgets JavaScript library is either not installed or\n",
       "  not enabled. See the <a href=\"https://ipywidgets.readthedocs.io/en/stable/user_install.html\">Jupyter\n",
       "  Widgets Documentation</a> for setup instructions.\n",
       "</p>\n",
       "<p>\n",
       "  If you're reading this message in another notebook frontend (for example, a static\n",
       "  rendering on GitHub or <a href=\"https://nbviewer.jupyter.org/\">NBViewer</a>),\n",
       "  it may mean that your frontend doesn't currently support widgets.\n",
       "</p>\n"
      ],
      "text/plain": [
       "Accordion(children=(VBox(children=(Label(value=u'Choose how to start:', layout=Layout(width=u'50%')), Tab(children=(VBox(children=(Label(value=u'Start with a new script', layout=Layout(width=u'50%')), Text(value=u'CMLWrapper.out', description=u'Output directory:', layout=Layout(margin=u'30px 0px 10px 0px'), placeholder=u'Type something', style=DescriptionStyle(description_width=u'initial')), Button(description=u'Start', layout=Layout(margin=u'20px 0px 10px 115px'), style=ButtonStyle(button_color='lightblue')))), VBox(children=(Label(value=u'Load an existing script', layout=Layout(width=u'50%')), Textarea(value=u'', layout=Layout(width=u'50%'), placeholder=u'copy a ChemML script (config file) here'), Button(description=u'Load', layout=Layout(margin=u'20px 0px 10px 115px'), style=ButtonStyle(button_color='lightblue')))), VBox(children=(Label(value=u'Start with a template or tutorial workflow', layout=Layout(width=u'50%')), HTML(value=u'<b> Templates: </b>', layout=Layout(margin=u'10px 0px 10px 0px', width=u'50%')), HBox(children=(Label(value=u'Template 1: read XYZ files --> generate Coulomb_Matrix --> save features matrix'), Button(description=u'Select', style=ButtonStyle(button_color='lightblue'))), layout=Layout(border=u'dotted black 1px', justify_content=u'space-between')), HBox(children=(Label(value=u'Template 2: split X,y --> scale --> gridsearchCV on MLPregressor', layout=Layout(width=u'70%')), Button(description=u'Select', style=ButtonStyle(button_color='lightblue'))), layout=Layout(border=u'dotted black 1px', justify_content=u'space-between')), HTML(value=u'<b> Tutorials: </b>', layout=Layout(margin=u'20px 0px 10px 0px', width=u'50%')), HBox(children=(Label(value=u'Tutorial 1: read sample data --> save smiles --> fingerprint molecules'), Button(description=u'Select', style=ButtonStyle(button_color='lightblue'))), layout=Layout(border=u'dotted black 1px', justify_content=u'space-between'))))), _titles={u'1': 'Existing script', u'0': 'New script', u'2': 'Template workflow'}), HBox(layout=Layout(border=u'dotted black 1px', height=u'0px', margin=u'20px 0px 0px 0px')), HTML(value=u\"<b>Note:</b> Don't forget to print/save the ChemML Wrapper's input file (configuration script) when you are done with editing:\", layout=Layout(margin=u'10px 0px 0px 0px')), HBox(children=(Button(description=u'Print Script', layout=Layout(margin=u'10px 0px 0px 0px', width=u'120px'), style=ButtonStyle(button_color='lightblue')), Textarea(value=u'', layout=Layout(margin=u'0px 0px 0px 10px', width=u'100%'), placeholder=u\"Press the 'Print Script' button to print the ChemML Wrapper's configuration script here. Copy and save it for the future use.\")), layout=Layout(align_items=u'center', justify_content=u'center', margin=u'10px 0px 0px 0px')), HBox(children=(Button(description=u'Save Script', layout=Layout(margin=u'20px 0px 0px 0px', width=u'120px'), style=ButtonStyle(button_color='lightblue')), Text(value=u'cheml_config.txt', description=u'config file name:', layout=Layout(margin=u'20px 0px 0px 20px'), placeholder=u'cheml_config.txt', style=DescriptionStyle(description_width=u'initial'))), layout=Layout(align_items=u'center', justify_content=u'center', margin=u'10px 0px 0px 0px')))),), layout=Layout(border=u'solid gray 2px'), _titles={u'0': 'Home page'})"
      ]
     },
     "metadata": {},
     "output_type": "display_data"
    },
    {
     "name": "stdout",
     "output_type": "stream",
     "text": [
      "The computation graph will be displayed here:\n"
     ]
    },
    {
     "data": {
      "application/vnd.jupyter.widget-view+json": {
       "model_id": "e9b2100555e04b4f8e79b4dfe72df6dc",
       "version_major": 2,
       "version_minor": 0
      },
      "text/html": [
       "<p>Failed to display Jupyter Widget of type <code>Image</code>.</p>\n",
       "<p>\n",
       "  If you're reading this message in Jupyter Notebook or JupyterLab, it may mean\n",
       "  that the widgets JavaScript is still loading. If this message persists, it\n",
       "  likely means that the widgets JavaScript library is either not installed or\n",
       "  not enabled. See the <a href=\"https://ipywidgets.readthedocs.io/en/stable/user_install.html\">Jupyter\n",
       "  Widgets Documentation</a> for setup instructions.\n",
       "</p>\n",
       "<p>\n",
       "  If you're reading this message in another notebook frontend (for example, a static\n",
       "  rendering on GitHub or <a href=\"https://nbviewer.jupyter.org/\">NBViewer</a>),\n",
       "  it may mean that your frontend doesn't currently support widgets.\n",
       "</p>\n"
      ],
      "text/plain": [
       "Image(value='')"
      ]
     },
     "metadata": {},
     "output_type": "display_data"
    }
   ],
   "source": [
    "from cheml.notebooks import wrapperGUI\n",
    "ui = wrapperGUI()"
   ]
  },
  {
   "cell_type": "code",
   "execution_count": 17,
   "metadata": {},
   "outputs": [
    {
     "name": "stdout",
     "output_type": "stream",
     "text": [
      "<type 'dict'>\n",
      "<type 'str'>\n",
      "<type 'float'>\n",
      "<type 'bool'>\n",
      "<type 'NoneType'>\n",
      "<type 'str'>\n"
     ]
    }
   ],
   "source": [
    "from cheml.utils import value\n",
    "v = value(\"{'Ru': 'q', 'Re': 75.0, 'R': True, 'u':None, 'e':'e'}\")\n",
    "print type(v)\n",
    "print type(v['Ru'])\n",
    "print type(v['Re'])\n",
    "print type(v['R'])\n",
    "print type(v['u'])\n",
    "print type(v['e'])"
   ]
  },
  {
   "cell_type": "code",
   "execution_count": 18,
   "metadata": {
    "collapsed": true
   },
   "outputs": [],
   "source": [
    "import inspect\n",
    "import pandas as pd\n",
    "from tabulate import tabulate\n"
   ]
  },
  {
   "cell_type": "code",
   "execution_count": 19,
   "metadata": {},
   "outputs": [
    {
     "data": {
      "text/html": [
       "<div>\n",
       "<style scoped>\n",
       "    .dataframe tbody tr th:only-of-type {\n",
       "        vertical-align: middle;\n",
       "    }\n",
       "\n",
       "    .dataframe tbody tr th {\n",
       "        vertical-align: top;\n",
       "    }\n",
       "\n",
       "    .dataframe thead th {\n",
       "        text-align: right;\n",
       "    }\n",
       "</style>\n",
       "<table border=\"1\" class=\"dataframe\">\n",
       "  <thead>\n",
       "    <tr style=\"text-align: right;\">\n",
       "      <th></th>\n",
       "      <th>task</th>\n",
       "      <th>subtask</th>\n",
       "      <th>host</th>\n",
       "      <th>function</th>\n",
       "      <th>input tokens</th>\n",
       "      <th>output tokens</th>\n",
       "    </tr>\n",
       "  </thead>\n",
       "  <tbody>\n",
       "  </tbody>\n",
       "</table>\n",
       "</div>"
      ],
      "text/plain": [
       "Empty DataFrame\n",
       "Columns: [task, subtask, host, function, input tokens, output tokens]\n",
       "Index: []"
      ]
     },
     "execution_count": 19,
     "metadata": {},
     "output_type": "execute_result"
    }
   ],
   "source": [
    "databases = ['cheml', 'sklearn', 'pd']\n",
    "directory = 'docs/wrapper_docs'\n",
    "direc = 'wrapper_docs'\n",
    "extras = ['np','__builtins__', '__doc__', '__file__', '__name__', '__package__','mask','Input', 'Output', 'Parameter', 'req', 'regression_types', 'cv_types']\n",
    "cols = ['task', 'subtask', 'host', 'function', 'input tokens', 'output tokens']\n",
    "df = pd.DataFrame(columns = cols)\n",
    "df"
   ]
  },
  {
   "cell_type": "code",
   "execution_count": 21,
   "metadata": {},
   "outputs": [
    {
     "data": {
      "text/plain": [
       "['APEAttributeGenerator',\n",
       " 'APRDFAttributeGenerator',\n",
       " 'Bag_of_Bonds',\n",
       " 'ChargeDependentAttributeGenerator',\n",
       " 'ChemicalOrderingAttributeGenerator',\n",
       " 'ConstantColumns',\n",
       " 'ConvertFile',\n",
       " 'CoordinationNumberAttributeGenerator',\n",
       " 'CoulombMatrixAttributeGenerator',\n",
       " 'Coulomb_Matrix',\n",
       " 'DistanceMatrix',\n",
       " 'Dragon',\n",
       " 'EffectiveCoordinationNumberAttributeGenerator',\n",
       " 'ElementFractionAttributeGenerator',\n",
       " 'ElementPairPropertyAttributeGenerator',\n",
       " 'ElementalPropertyAttributeGenerator',\n",
       " 'GCLPAttributeGenerator',\n",
       " 'IonicCompoundProximityAttributeGenerator',\n",
       " 'IonicityAttributeGenerator',\n",
       " 'LatticeSimilarityAttributeGenerator',\n",
       " 'LocalPropertyDifferenceAttributeGenerator',\n",
       " 'LocalPropertyVarianceAttributeGenerator',\n",
       " 'MeredigAttributeGenerator',\n",
       " 'MissingValues',\n",
       " 'Outliers',\n",
       " 'PRDFAttributeGenerator',\n",
       " 'PackingEfficiencyAttributeGenerator',\n",
       " 'PyScript',\n",
       " 'RDKitFingerprint',\n",
       " 'SaveFile',\n",
       " 'Split',\n",
       " 'StoichiometricAttributeGenerator',\n",
       " 'StructuralHeterogeneityAttributeGenerator',\n",
       " 'ValenceShellAttributeGenerator',\n",
       " 'XYZreader',\n",
       " 'YangOmegaAttributeGenerator',\n",
       " 'load_cep_homo',\n",
       " 'load_organic_density',\n",
       " 'load_xyz_polarizability']"
      ]
     },
     "execution_count": 21,
     "metadata": {},
     "output_type": "execute_result"
    }
   ],
   "source": [
    "info = {'Enter':[], 'Represent':[], 'Prepare':[],'Model':[],'Search':[],'Mix':[],'Visualize':[],'Store':[]}\n",
    "ind= 0\n",
    "h = 'cheml'\n",
    "\n",
    "from cheml.wrappers.database import cheml_db as db\n",
    "classes = [klass[0] for klass in inspect.getmembers(db)]\n",
    "class_names = [c for c in classes if c not in extras]\n",
    "class_names"
   ]
  },
  {
   "cell_type": "code",
   "execution_count": 27,
   "metadata": {},
   "outputs": [
    {
     "data": {
      "text/plain": [
       "'    | ChemML, 0.4.1\\n'"
      ]
     },
     "execution_count": 27,
     "metadata": {},
     "output_type": "execute_result"
    }
   ],
   "source": [
    "n='XYZreader'\n",
    "k = getattr(db, n)\n",
    "r = k.requirements[0]\n",
    "'    | %s, %s\\n'%(r[0], r[1])\n"
   ]
  }
 ],
 "metadata": {
  "extensions": {
   "jupyter_dashboards": {
    "activeView": "grid_default",
    "version": 1,
    "views": {
     "grid_default": {
      "cellMargin": 10,
      "defaultCellHeight": 20,
      "maxColumns": 12,
      "name": "grid",
      "type": "grid"
     },
     "report_default": {
      "name": "report",
      "type": "report"
     }
    }
   }
  },
  "kernelspec": {
   "display_name": "Python 2",
   "language": "python",
   "name": "python2"
  },
  "language_info": {
   "codemirror_mode": {
    "name": "ipython",
    "version": 2
   },
   "file_extension": ".py",
   "mimetype": "text/x-python",
   "name": "python",
   "nbconvert_exporter": "python",
   "pygments_lexer": "ipython2",
   "version": "2.7.13"
  }
 },
 "nbformat": 4,
 "nbformat_minor": 1
}
