{
 "cells": [
  {
   "cell_type": "code",
   "execution_count": 10,
   "metadata": {
    "scrolled": false
   },
   "outputs": [
    {
     "data": {
      "application/vnd.jupyter.widget-view+json": {
       "model_id": "f51cc317d15545988f6b5606f625de45",
       "version_major": 2,
       "version_minor": 0
      },
      "text/html": [
       "<p>Failed to display Jupyter Widget of type <code>Accordion</code>.</p>\n",
       "<p>\n",
       "  If you're reading this message in Jupyter Notebook or JupyterLab, it may mean\n",
       "  that the widgets JavaScript is still loading. If this message persists, it\n",
       "  likely means that the widgets JavaScript library is either not installed or\n",
       "  not enabled. See the <a href=\"https://ipywidgets.readthedocs.io/en/stable/user_install.html\">Jupyter\n",
       "  Widgets Documentation</a> for setup instructions.\n",
       "</p>\n",
       "<p>\n",
       "  If you're reading this message in another notebook frontend (for example, a static\n",
       "  rendering on GitHub or <a href=\"https://nbviewer.jupyter.org/\">NBViewer</a>),\n",
       "  it may mean that your frontend doesn't currently support widgets.\n",
       "</p>\n"
      ],
      "text/plain": [
       "Accordion(children=(VBox(children=(Label(value=u'Choose how to start:', layout=Layout(width=u'50%')), Tab(children=(VBox(children=(Label(value=u'Start with a new script', layout=Layout(width=u'50%')), Text(value=u'CMLWrapper.out', description=u'Output directory:', layout=Layout(margin=u'30px 0px 10px 0px'), placeholder=u'Type something', style=DescriptionStyle(description_width=u'initial')), Button(description=u'Start', layout=Layout(margin=u'20px 0px 10px 115px'), style=ButtonStyle(button_color='lightblue')))), VBox(children=(Label(value=u'Load an existing script', layout=Layout(width=u'50%')), Textarea(value=u'', layout=Layout(width=u'50%'), placeholder=u'copy a ChemML script (config file) here'), Button(description=u'Load', layout=Layout(margin=u'20px 0px 10px 115px'), style=ButtonStyle(button_color='lightblue')))), VBox(children=(Label(value=u'Start with a template workflow', layout=Layout(width=u'50%')), HTML(value=u'<b> Datasets Overview: </b>', layout=Layout(margin=u'10px 0px 10px 0px', width=u'50%')), HBox(children=(Label(value=u'Template 1: load_cep_homo --> plot histogram of HOMO energies --> print 5 SMILES'), Button(description=u'Select', style=ButtonStyle(button_color='lightblue'))), layout=Layout(border=u'dotted black 1px', justify_content=u'space-between')), HBox(children=(Label(value=u'Template 2: read XYZ files --> generate BagofBonds features --> save features'), Button(description=u'Select', style=ButtonStyle(button_color='lightblue'))), layout=Layout(border=u'dotted black 1px', justify_content=u'space-between')), HBox(children=(Label(value=u'Template MHL: read XYZ files --> generate BagofBonds features --> save features'), Button(description=u'Select', style=ButtonStyle(button_color='lightblue'))), layout=Layout(border=u'dotted black 1px', justify_content=u'space-between')), HTML(value=u'<b> Molecular Descriptors: </b>', layout=Layout(margin=u'10px 0px 10px 0px', width=u'50%')), HBox(children=(Label(value=u'Template 1: read XYZ files --> generate CoulombMatrix features --> save features'), Button(description=u'Select', style=ButtonStyle(button_color='lightblue'))), layout=Layout(border=u'dotted black 1px', justify_content=u'space-between')), HBox(children=(Label(value=u'Template 2: read XYZ files --> generate BagofBonds features --> save features'), Button(description=u'Select', style=ButtonStyle(button_color='lightblue'))), layout=Layout(border=u'dotted black 1px', justify_content=u'space-between')), HBox(children=(Label(value=u'Template 3: get SMILES reperesentaion of molecules --> save them --> generate Morgan Fingerprints  --> save features'), Button(description=u'Select', style=ButtonStyle(button_color='lightblue'))), layout=Layout(border=u'dotted black 1px', justify_content=u'space-between')), HBox(children=(Label(value=u'Template 4: get SMILES reperesentaion of molecules --> save them --> generate Dragon descriptors  --> save features'), Button(description=u'Select', style=ButtonStyle(button_color='lightblue'))), layout=Layout(border=u'dotted black 1px', justify_content=u'space-between')), HBox(children=(Label(value=u'Template MHL: read XYZ files --> generate BagofBonds features --> save features'), Button(description=u'Select', style=ButtonStyle(button_color='lightblue'))), layout=Layout(border=u'dotted black 1px', justify_content=u'space-between'))))), _titles={u'1': 'Existing script', u'0': 'New script', u'2': 'Template workflow'}), HBox(layout=Layout(border=u'dotted black 1px', height=u'0px', margin=u'20px 0px 0px 0px')), HTML(value=u\"<b>Note:</b> Don't forget to print/save the ChemML Wrapper's input file (configuration script) when you are done with editing:\", layout=Layout(margin=u'10px 0px 0px 0px')), HBox(children=(Button(description=u'Print Script', layout=Layout(margin=u'10px 0px 0px 0px', width=u'120px'), style=ButtonStyle(button_color='lightblue')), Textarea(value=u'', layout=Layout(margin=u'0px 0px 0px 10px', width=u'100%'), placeholder=u\"Press the 'Print Script' button to print the ChemML Wrapper's configuration script here. Copy and save it for the future use.\")), layout=Layout(align_items=u'center', justify_content=u'center', margin=u'10px 0px 0px 0px')), HBox(children=(Button(description=u'Save Script', layout=Layout(margin=u'20px 0px 0px 0px', width=u'120px'), style=ButtonStyle(button_color='lightblue')), Text(value=u'cheml_config.txt', description=u'config file name:', layout=Layout(margin=u'20px 0px 0px 20px'), placeholder=u'cheml_config.txt', style=DescriptionStyle(description_width=u'initial'))), layout=Layout(align_items=u'center', justify_content=u'center', margin=u'10px 0px 0px 0px')))),), layout=Layout(border=u'solid gray 2px'), _titles={u'0': 'Home page'})"
      ]
     },
     "metadata": {},
     "output_type": "display_data"
    },
    {
     "name": "stdout",
     "output_type": "stream",
     "text": [
      "The computation graph will be displayed here:\n"
     ]
    },
    {
     "data": {
      "application/vnd.jupyter.widget-view+json": {
       "model_id": "39483e76431049329044df8eb823308f",
       "version_major": 2,
       "version_minor": 0
      },
      "text/html": [
       "<p>Failed to display Jupyter Widget of type <code>Image</code>.</p>\n",
       "<p>\n",
       "  If you're reading this message in Jupyter Notebook or JupyterLab, it may mean\n",
       "  that the widgets JavaScript is still loading. If this message persists, it\n",
       "  likely means that the widgets JavaScript library is either not installed or\n",
       "  not enabled. See the <a href=\"https://ipywidgets.readthedocs.io/en/stable/user_install.html\">Jupyter\n",
       "  Widgets Documentation</a> for setup instructions.\n",
       "</p>\n",
       "<p>\n",
       "  If you're reading this message in another notebook frontend (for example, a static\n",
       "  rendering on GitHub or <a href=\"https://nbviewer.jupyter.org/\">NBViewer</a>),\n",
       "  it may mean that your frontend doesn't currently support widgets.\n",
       "</p>\n"
      ],
      "text/plain": [
       "Image(value='')"
      ]
     },
     "metadata": {},
     "output_type": "display_data"
    }
   ],
   "source": [
    "from cheml.notebooks import wrapperGUI\n",
    "ui = wrapperGUI()\n"
   ]
  },
  {
   "cell_type": "code",
   "execution_count": 1,
   "metadata": {
    "collapsed": true
   },
   "outputs": [],
   "source": [
    "from cheml.datasets import load_organic_density\n",
    "s, den, fea = load_organic_density()\n"
   ]
  },
  {
   "cell_type": "code",
   "execution_count": 7,
   "metadata": {},
   "outputs": [
    {
     "data": {
      "image/png": "[encoded data removed]",
      "text/plain": [
       "<matplotlib.figure.Figure at 0x1072ccdd0>"
      ]
     },
     "metadata": {},
     "output_type": "display_data"
    }
   ],
   "source": [
    "%matplotlib inline\n",
    "from cheml.visualization import scatter2D, decorator\n",
    "sc = scatter2D()\n",
    "fig = sc.plot(fea,den, 'AMW',0)\n"
   ]
  },
  {
   "cell_type": "code",
   "execution_count": 8,
   "metadata": {},
   "outputs": [],
   "source": [
    "dec = decorator()\n",
    "dec.fit(fig)\n",
    "dec.matplotlib_font()\n"
   ]
  },
  {
   "cell_type": "code",
   "execution_count": null,
   "metadata": {},
   "outputs": [],
   "source": [
    "s=\"family='normal', size=18, weight='normal', style='normal', variant='normal'\"\n",
    "sl = s.split(',')\n",
    "for p in sl:\n",
    "    l = p.split('=')\n",
    "    print \"%s = ('%s',%s)\"%(l[0].strip(), l[0].strip(), l[1].strip())"
   ]
  }
 ],
 "metadata": {
  "extensions": {
   "jupyter_dashboards": {
    "activeView": "grid_default",
    "version": 1,
    "views": {
     "grid_default": {
      "cellMargin": 10,
      "defaultCellHeight": 20,
      "maxColumns": 12,
      "name": "grid",
      "type": "grid"
     },
     "report_default": {
      "name": "report",
      "type": "report"
     }
    }
   }
  },
  "kernelspec": {
   "display_name": "Python 2",
   "language": "python",
   "name": "python2"
  },
  "language_info": {
   "codemirror_mode": {
    "name": "ipython",
    "version": 2
   },
   "file_extension": ".py",
   "mimetype": "text/x-python",
   "name": "python",
   "nbconvert_exporter": "python",
   "pygments_lexer": "ipython2",
   "version": "2.7.13"
  }
 },
 "nbformat": 4,
 "nbformat_minor": 1
}
