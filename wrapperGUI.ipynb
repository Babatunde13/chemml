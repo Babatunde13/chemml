{
 "cells": [
  {
   "cell_type": "code",
   "execution_count": 1,
   "metadata": {
    "scrolled": false
   },
   "outputs": [
    {
     "data": {
      "application/vnd.jupyter.widget-view+json": {
       "model_id": "2527e0920e10408ab35641d4c725ea65",
       "version_major": 2,
       "version_minor": 0
      },
      "text/html": [
       "<p>Failed to display Jupyter Widget of type <code>Accordion</code>.</p>\n",
       "<p>\n",
       "  If you're reading this message in Jupyter Notebook or JupyterLab, it may mean\n",
       "  that the widgets JavaScript is still loading. If this message persists, it\n",
       "  likely means that the widgets JavaScript library is either not installed or\n",
       "  not enabled. See the <a href=\"https://ipywidgets.readthedocs.io/en/stable/user_install.html\">Jupyter\n",
       "  Widgets Documentation</a> for setup instructions.\n",
       "</p>\n",
       "<p>\n",
       "  If you're reading this message in another notebook frontend (for example, a static\n",
       "  rendering on GitHub or <a href=\"https://nbviewer.jupyter.org/\">NBViewer</a>),\n",
       "  it may mean that your frontend doesn't currently support widgets.\n",
       "</p>\n"
      ],
      "text/plain": [
       "Accordion(children=(VBox(children=(Label(value=u'Choose how to start:', layout=Layout(width=u'50%')), Tab(children=(VBox(children=(Label(value=u'Start with a new script', layout=Layout(width=u'50%')), Text(value=u'CMLWrapper.out', description=u'Output directory:', layout=Layout(margin=u'30px 0px 10px 0px'), placeholder=u'Type something', style=DescriptionStyle(description_width=u'initial')), Button(description=u'Start', layout=Layout(margin=u'20px 0px 10px 115px'), style=ButtonStyle(button_color='lightblue')))), VBox(children=(Label(value=u'Load an existing script', layout=Layout(width=u'50%')), Textarea(value=u'', layout=Layout(width=u'50%'), placeholder=u'copy a ChemML script (config file) here'), Button(description=u'Load', layout=Layout(margin=u'20px 0px 10px 115px'), style=ButtonStyle(button_color='lightblue')))), VBox(children=(Label(value=u'Start with a template workflow', layout=Layout(width=u'50%')), Text(value=u'CMLWrapper.out', description=u'Output directory:', layout=Layout(margin=u'30px 0px 30px 0px'), placeholder=u'Type something', style=DescriptionStyle(description_width=u'initial')), HBox(children=(Label(value=u'Template 1: read XYZ files --> generate Coulomb_Matrix --> store output', layout=Layout(width=u'70%')), Button(description=u'Select', style=ButtonStyle(button_color='lightblue')), Button(description=u'Overview', style=ButtonStyle(button_color='lightblue')))), HBox(children=(Label(value=u'Template 2: check the overview for more information', layout=Layout(width=u'70%')), Button(description=u'Select', style=ButtonStyle(button_color='lightblue')), Button(description=u'Overview', style=ButtonStyle(button_color='lightblue'))))))), _titles={u'1': 'Existing script', u'0': 'New script', u'2': 'Template workflow'}), HBox(layout=Layout(border=u'dotted black 1px', height=u'0px', margin=u'20px 0px 0px 0px')), HTML(value=u\"<b>Note:</b> Don't forget to print/save the ChemML Wrapper's input file (configuration script) when you are done with editing:\", layout=Layout(margin=u'10px 0px 0px 0px')), HBox(children=(Button(description=u'Print Script', layout=Layout(margin=u'10px 0px 0px 0px', width=u'120px'), style=ButtonStyle(button_color='lightblue')), Textarea(value=u'', layout=Layout(margin=u'0px 0px 0px 10px', width=u'100%'), placeholder=u\"Press the 'Print Script' button to print the ChemML Wrapper's configuration script here. Copy and save it for the future use.\")), layout=Layout(align_items=u'center', justify_content=u'center', margin=u'10px 0px 0px 0px')), HBox(children=(Button(description=u'Save Script', layout=Layout(margin=u'20px 0px 0px 0px', width=u'120px'), style=ButtonStyle(button_color='lightblue')), Text(value=u'cheml_config.txt', description=u'config file name:', layout=Layout(margin=u'20px 0px 0px 20px'), placeholder=u'cheml_config.txt', style=DescriptionStyle(description_width=u'initial'))), layout=Layout(align_items=u'center', justify_content=u'center', margin=u'10px 0px 0px 0px')))),), layout=Layout(border=u'solid gray 2px'), _titles={u'0': 'Home page'})"
      ]
     },
     "metadata": {},
     "output_type": "display_data"
    },
    {
     "name": "stdout",
     "output_type": "stream",
     "text": [
      "The computation graph will be displayed here:\n"
     ]
    },
    {
     "data": {
      "application/vnd.jupyter.widget-view+json": {
       "model_id": "61c0049861a7457eaabe095704cae96f",
       "version_major": 2,
       "version_minor": 0
      },
      "text/html": [
       "<p>Failed to display Jupyter Widget of type <code>Image</code>.</p>\n",
       "<p>\n",
       "  If you're reading this message in Jupyter Notebook or JupyterLab, it may mean\n",
       "  that the widgets JavaScript is still loading. If this message persists, it\n",
       "  likely means that the widgets JavaScript library is either not installed or\n",
       "  not enabled. See the <a href=\"https://ipywidgets.readthedocs.io/en/stable/user_install.html\">Jupyter\n",
       "  Widgets Documentation</a> for setup instructions.\n",
       "</p>\n",
       "<p>\n",
       "  If you're reading this message in another notebook frontend (for example, a static\n",
       "  rendering on GitHub or <a href=\"https://nbviewer.jupyter.org/\">NBViewer</a>),\n",
       "  it may mean that your frontend doesn't currently support widgets.\n",
       "</p>\n"
      ],
      "text/plain": [
       "Image(value='')"
      ]
     },
     "metadata": {},
     "output_type": "display_data"
    },
    {
     "data": {
      "application/vnd.jupyter.widget-view+json": {
       "model_id": "9cdcafb26e884a18b0673b36ac8a10a9",
       "version_major": 2,
       "version_minor": 0
      },
      "text/html": [
       "<p>Failed to display Jupyter Widget of type <code>Image</code>.</p>\n",
       "<p>\n",
       "  If you're reading this message in Jupyter Notebook or JupyterLab, it may mean\n",
       "  that the widgets JavaScript is still loading. If this message persists, it\n",
       "  likely means that the widgets JavaScript library is either not installed or\n",
       "  not enabled. See the <a href=\"https://ipywidgets.readthedocs.io/en/stable/user_install.html\">Jupyter\n",
       "  Widgets Documentation</a> for setup instructions.\n",
       "</p>\n",
       "<p>\n",
       "  If you're reading this message in another notebook frontend (for example, a static\n",
       "  rendering on GitHub or <a href=\"https://nbviewer.jupyter.org/\">NBViewer</a>),\n",
       "  it may mean that your frontend doesn't currently support widgets.\n",
       "</p>\n"
      ],
      "text/plain": [
       "Image(value='\\x89PNG\\r\\n\\x1a\\n\\x00\\x00\\x00\\rIHDR\\x00\\x00\\x00\\x0b\\x00\\x00\\x00\\x0b\\x08\\x06\\x00\\x00\\x00\\xa9\\xacw&\\x00\\x00\\x00\\x01sRGB\\x00\\xae\\xce\\x1c\\xe9\\x00\\x00\\x00&IDAT\\x18\\x19c\\xfc\\xff\\xff\\xff*\\x06\\xe2\\xc0q\\x16\\xa0\\xbaP\\xe2\\xd4200\\x11\\xab\\x10\\xa4nT1rh\\xd1.4\\x00\\x151\\x04\\xdbP!A\\xc8\\x00\\x00\\x00\\x00IEND\\xaeB`\\x82')"
      ]
     },
     "metadata": {},
     "output_type": "display_data"
    }
   ],
   "source": [
    "from cheml import wrapperGUI\n",
    "ui = wrapperGUI()\n"
   ]
  }
 ],
 "metadata": {
  "extensions": {
   "jupyter_dashboards": {
    "activeView": "grid_default",
    "version": 1,
    "views": {
     "grid_default": {
      "cellMargin": 10,
      "defaultCellHeight": 20,
      "maxColumns": 12,
      "name": "grid",
      "type": "grid"
     },
     "report_default": {
      "name": "report",
      "type": "report"
     }
    }
   }
  },
  "kernelspec": {
   "display_name": "Python 2",
   "language": "python",
   "name": "python2"
  },
  "language_info": {
   "codemirror_mode": {
    "name": "ipython",
    "version": 2
   },
   "file_extension": ".py",
   "mimetype": "text/x-python",
   "name": "python",
   "nbconvert_exporter": "python",
   "pygments_lexer": "ipython2",
   "version": "2.7.13"
  }
 },
 "nbformat": 4,
 "nbformat_minor": 1
}
