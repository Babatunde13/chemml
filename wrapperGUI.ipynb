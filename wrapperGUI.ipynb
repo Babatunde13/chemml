{
 "cells": [
  {
   "cell_type": "code",
   "execution_count": 1,
   "metadata": {
    "scrolled": false
   },
   "outputs": [
    {
     "data": {
      "application/vnd.jupyter.widget-view+json": {
       "model_id": "03969d63d9894eef92b9ec11d97de6ae",
       "version_major": 2,
       "version_minor": 0
      },
      "text/html": [
       "<p>Failed to display Jupyter Widget of type <code>Accordion</code>.</p>\n",
       "<p>\n",
       "  If you're reading this message in Jupyter Notebook or JupyterLab, it may mean\n",
       "  that the widgets JavaScript is still loading. If this message persists, it\n",
       "  likely means that the widgets JavaScript library is either not installed or\n",
       "  not enabled. See the <a href=\"https://ipywidgets.readthedocs.io/en/stable/user_install.html\">Jupyter\n",
       "  Widgets Documentation</a> for setup instructions.\n",
       "</p>\n",
       "<p>\n",
       "  If you're reading this message in another notebook frontend (for example, a static\n",
       "  rendering on GitHub or <a href=\"https://nbviewer.jupyter.org/\">NBViewer</a>),\n",
       "  it may mean that your frontend doesn't currently support widgets.\n",
       "</p>\n"
      ],
      "text/plain": [
       "Accordion(children=(VBox(children=(Label(value=u'Choose how to start:', layout=Layout(width=u'50%')), Tab(children=(VBox(children=(Label(value=u'Start with a new script', layout=Layout(width=u'50%')), Text(value=u'CMLWrapper.out', description=u'Output directory:', layout=Layout(margin=u'30px 0px 10px 0px'), placeholder=u'Type something', style=DescriptionStyle(description_width=u'initial')), Button(description=u'Start', layout=Layout(margin=u'20px 0px 10px 115px'), style=ButtonStyle(button_color='lightblue')))), VBox(children=(Label(value=u'Load an existing script', layout=Layout(width=u'50%')), Textarea(value=u'', layout=Layout(width=u'50%'), placeholder=u'copy a ChemML script (config file) here'), Button(description=u'Load', layout=Layout(margin=u'20px 0px 10px 115px'), style=ButtonStyle(button_color='lightblue')))), VBox(children=(Label(value=u'Start with a template workflow', layout=Layout(width=u'50%')), HTML(value=u'<b> Datasets Overview: </b>', layout=Layout(margin=u'10px 0px 10px 0px', width=u'50%')), HBox(children=(Label(value=u'Template 1: load_cep_homo --> plot histogram of HOMO energies --> print 5 SMILES'), Button(description=u'Select', style=ButtonStyle(button_color='lightblue'))), layout=Layout(border=u'dotted black 1px', justify_content=u'space-between')), HBox(children=(Label(value=u'Template 2: load_organic_density --> plot feature AMW vs. density --> print 5 SMILES'), Button(description=u'Select', style=ButtonStyle(button_color='lightblue'))), layout=Layout(border=u'dotted black 1px', justify_content=u'space-between')), HBox(children=(Label(value=u'Template 3: load_xyz_polarizability --> plot all 50 polarizabilities --> print first item of coordinates output'), Button(description=u'Select', style=ButtonStyle(button_color='lightblue'))), layout=Layout(border=u'dotted black 1px', justify_content=u'space-between')), HTML(value=u'<b> Molecular Descriptors: </b>', layout=Layout(margin=u'10px 0px 10px 0px', width=u'50%')), HBox(children=(Label(value=u'Template 1: load_xyz_polarizability --> generate CoulombMatrix features --> save features'), Button(description=u'Select', style=ButtonStyle(button_color='lightblue'))), layout=Layout(border=u'dotted black 1px', justify_content=u'space-between')), HBox(children=(Label(value=u'Template 2: load_xyz_polarizability --> generate BagofBonds features --> save features'), Button(description=u'Select', style=ButtonStyle(button_color='lightblue'))), layout=Layout(border=u'dotted black 1px', justify_content=u'space-between')), HBox(children=(Label(value=u'Template 3: get SMILES reperesentaion of molecules --> save them --> generate Morgan Fingerprints  --> save features'), Button(description=u'Select', style=ButtonStyle(button_color='lightblue'))), layout=Layout(border=u'dotted black 1px', justify_content=u'space-between')), HBox(children=(Label(value=u'Template 4: get SMILES reperesentaion of molecules --> save them --> generate Dragon descriptors  --> save features'), Button(description=u'Select', style=ButtonStyle(button_color='lightblue'))), layout=Layout(border=u'dotted black 1px', justify_content=u'space-between')), HTML(value=u'<b> Inorganic Descriptors: </b>', layout=Layout(margin=u'10px 0px 10px 0px', width=u'50%')), HBox(children=(Label(value=u'Template 1: load_comp_energy --> inorganic descriptors for composition entries --> concatenate and print shape'), Button(description=u'Select', style=ButtonStyle(button_color='lightblue'))), layout=Layout(border=u'dotted black 1px', justify_content=u'space-between')), HBox(children=(Label(value=u'Template 2: load_crystal_structures --> inorganic descriptors for crystal structures --> concatenate and print shape'), Button(description=u'Select', style=ButtonStyle(button_color='lightblue'))), layout=Layout(border=u'dotted black 1px', justify_content=u'space-between')), HTML(value=u'<b> Data Mining: </b>', layout=Layout(margin=u'10px 0px 10px 0px', width=u'50%')), HBox(children=(Label(value=u'Template 1: model selection with grid search and cross validation'), Button(description=u'Select', style=ButtonStyle(button_color='lightblue'))), layout=Layout(border=u'dotted black 1px', justify_content=u'space-between')), HBox(children=(Label(value=u'Template 2: a complete machine learning workflow'), Button(description=u'Select', style=ButtonStyle(button_color='lightblue'))), layout=Layout(border=u'dotted black 1px', justify_content=u'space-between'))))), _titles={u'1': 'Existing script', u'0': 'New script', u'2': 'Template workflow'}), HBox(layout=Layout(border=u'dotted black 1px', height=u'0px', margin=u'20px 0px 0px 0px')), HTML(value=u\"<b>Note:</b> Don't forget to print/save the ChemML Wrapper's input file (configuration script) when you are done with editing:\", layout=Layout(margin=u'10px 0px 0px 0px')), HBox(children=(Button(description=u'Print Script', layout=Layout(margin=u'10px 0px 0px 0px', width=u'120px'), style=ButtonStyle(button_color='lightblue')), Textarea(value=u'', layout=Layout(margin=u'0px 0px 0px 10px', width=u'100%'), placeholder=u\"Press the 'Print Script' button to print the ChemML Wrapper's configuration script here. Copy and save it for the future use.\")), layout=Layout(align_items=u'center', justify_content=u'center', margin=u'10px 0px 0px 0px')), HBox(children=(Button(description=u'Save Script', layout=Layout(margin=u'20px 0px 0px 0px', width=u'120px'), style=ButtonStyle(button_color='lightblue')), Text(value=u'cheml_config.txt', description=u'config file name:', layout=Layout(margin=u'20px 0px 0px 20px'), placeholder=u'cheml_config.txt', style=DescriptionStyle(description_width=u'initial'))), layout=Layout(align_items=u'center', justify_content=u'center', margin=u'10px 0px 0px 0px')))),), layout=Layout(border=u'solid gray 2px'), _titles={u'0': 'Home page'})"
      ]
     },
     "metadata": {},
     "output_type": "display_data"
    },
    {
     "name": "stdout",
     "output_type": "stream",
     "text": [
      "The computation graph will be displayed here:\n"
     ]
    },
    {
     "data": {
      "application/vnd.jupyter.widget-view+json": {
       "model_id": "7a4823b60e884569b26ec4801011953b",
       "version_major": 2,
       "version_minor": 0
      },
      "text/html": [
       "<p>Failed to display Jupyter Widget of type <code>Image</code>.</p>\n",
       "<p>\n",
       "  If you're reading this message in Jupyter Notebook or JupyterLab, it may mean\n",
       "  that the widgets JavaScript is still loading. If this message persists, it\n",
       "  likely means that the widgets JavaScript library is either not installed or\n",
       "  not enabled. See the <a href=\"https://ipywidgets.readthedocs.io/en/stable/user_install.html\">Jupyter\n",
       "  Widgets Documentation</a> for setup instructions.\n",
       "</p>\n",
       "<p>\n",
       "  If you're reading this message in another notebook frontend (for example, a static\n",
       "  rendering on GitHub or <a href=\"https://nbviewer.jupyter.org/\">NBViewer</a>),\n",
       "  it may mean that your frontend doesn't currently support widgets.\n",
       "</p>\n"
      ],
      "text/plain": [
       "Image(value='')"
      ]
     },
     "metadata": {},
     "output_type": "display_data"
    }
   ],
   "source": [
    "from cheml.notebooks import wrapperGUI\n",
    "ui = wrapperGUI()"
   ]
  },
  {
   "cell_type": "code",
   "execution_count": null,
   "metadata": {
    "collapsed": true
   },
   "outputs": [],
   "source": [
    "from cheml import wrapperRUN\n",
    "wrapperRUN('test.txt', 'test.out')\n"
   ]
  },
  {
   "cell_type": "code",
   "execution_count": null,
   "metadata": {},
   "outputs": [],
   "source": [
    "s=\"Evaluate='required_required', Weights = (-1.0#), chromosome_length = 1, chromosome_type = (1#), bit_limits = ((0#10)#),\\\n",
    "pop_size = 50, crossover_prob = 0.4, crossover_type = 'Blend', mutation_prob = 0.4, \\\n",
    "mut_float_mean = 0, mut_float_dev = 1, mut_int_lower = (1#), mut_int_upper = (10#), n_generations = 20\"\n",
    "sl = s.split(',')\n",
    "for p in sl:\n",
    "    l = p.split('=')\n",
    "    print \"%s = Parameter('%s',%s)\"%(l[0].strip(), l[0].strip(), l[1].strip())\n"
   ]
  }
 ],
 "metadata": {
  "extensions": {
   "jupyter_dashboards": {
    "activeView": "grid_default",
    "version": 1,
    "views": {
     "grid_default": {
      "cellMargin": 10,
      "defaultCellHeight": 20,
      "maxColumns": 12,
      "name": "grid",
      "type": "grid"
     },
     "report_default": {
      "name": "report",
      "type": "report"
     }
    }
   }
  },
  "kernelspec": {
   "display_name": "Python 2",
   "language": "python",
   "name": "python2"
  },
  "language_info": {
   "codemirror_mode": {
    "name": "ipython",
    "version": 2
   },
   "file_extension": ".py",
   "mimetype": "text/x-python",
   "name": "python",
   "nbconvert_exporter": "python",
   "pygments_lexer": "ipython2",
   "version": "2.7.13"
  }
 },
 "nbformat": 4,
 "nbformat_minor": 1
}
